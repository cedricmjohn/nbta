{
 "cells": [
  {
   "cell_type": "code",
   "execution_count": 1,
   "id": "eea137a0-a080-4466-bf9c-f85f234b9de6",
   "metadata": {
    "execution": {
     "iopub.execute_input": "2022-03-09T17:22:55.024057Z",
     "iopub.status.busy": "2022-03-09T17:22:55.023792Z",
     "iopub.status.idle": "2022-03-09T17:22:55.759401Z",
     "shell.execute_reply": "2022-03-09T17:22:55.758704Z",
     "shell.execute_reply.started": "2022-03-09T17:22:55.024029Z"
    }
   },
   "outputs": [
    {
     "data": {
      "text/html": [
       "<div>\n",
       "<style scoped>\n",
       "    .dataframe tbody tr th:only-of-type {\n",
       "        vertical-align: middle;\n",
       "    }\n",
       "\n",
       "    .dataframe tbody tr th {\n",
       "        vertical-align: top;\n",
       "    }\n",
       "\n",
       "    .dataframe thead th {\n",
       "        text-align: right;\n",
       "    }\n",
       "</style>\n",
       "<table border=\"1\" class=\"dataframe\">\n",
       "  <thead>\n",
       "    <tr style=\"text-align: right;\">\n",
       "      <th></th>\n",
       "      <th>data</th>\n",
       "    </tr>\n",
       "  </thead>\n",
       "  <tbody>\n",
       "    <tr>\n",
       "      <th>0</th>\n",
       "      <td>0</td>\n",
       "    </tr>\n",
       "    <tr>\n",
       "      <th>1</th>\n",
       "      <td>1</td>\n",
       "    </tr>\n",
       "    <tr>\n",
       "      <th>2</th>\n",
       "      <td>2</td>\n",
       "    </tr>\n",
       "    <tr>\n",
       "      <th>3</th>\n",
       "      <td>3</td>\n",
       "    </tr>\n",
       "  </tbody>\n",
       "</table>\n",
       "</div>"
      ],
      "text/plain": [
       "   data\n",
       "0     0\n",
       "1     1\n",
       "2     2\n",
       "3     3"
      ]
     },
     "execution_count": 1,
     "metadata": {},
     "output_type": "execute_result"
    }
   ],
   "source": [
    "#This is code\n",
    "import pandas as pd\n",
    "\n",
    "pd.DataFrame([0,1,2,3],columns=['data'])"
   ]
  },
  {
   "cell_type": "markdown",
   "id": "106b1c65-ac6a-4c78-837d-d87d81c7b678",
   "metadata": {},
   "source": [
    "# Markdown\n",
    "\n",
    "This is a Markdown cell"
   ]
  },
  {
   "cell_type": "code",
   "execution_count": 2,
   "id": "30f62d81-193f-4035-afbf-d8ea1808441a",
   "metadata": {
    "execution": {
     "iopub.execute_input": "2022-03-09T17:23:52.308483Z",
     "iopub.status.busy": "2022-03-09T17:23:52.308240Z",
     "iopub.status.idle": "2022-03-09T17:23:52.311461Z",
     "shell.execute_reply": "2022-03-09T17:23:52.310810Z",
     "shell.execute_reply.started": "2022-03-09T17:23:52.308459Z"
    }
   },
   "outputs": [],
   "source": [
    "# Another code cell\n",
    "\n",
    "def my_function(x):\n",
    "    return x*x"
   ]
  },
  {
   "cell_type": "code",
   "execution_count": 3,
   "id": "29078f6c-0250-400f-86f0-fe8e7385f7b2",
   "metadata": {
    "execution": {
     "iopub.execute_input": "2022-03-09T17:24:01.429652Z",
     "iopub.status.busy": "2022-03-09T17:24:01.429194Z",
     "iopub.status.idle": "2022-03-09T17:24:01.434065Z",
     "shell.execute_reply": "2022-03-09T17:24:01.433356Z",
     "shell.execute_reply.started": "2022-03-09T17:24:01.429627Z"
    }
   },
   "outputs": [
    {
     "data": {
      "text/plain": [
       "9"
      ]
     },
     "execution_count": 3,
     "metadata": {},
     "output_type": "execute_result"
    }
   ],
   "source": [
    "my_function(3)"
   ]
  },
  {
   "cell_type": "code",
   "execution_count": null,
   "id": "3a56f5bb-47c3-4b5a-8e9c-0005342dab80",
   "metadata": {},
   "outputs": [],
   "source": []
  }
 ],
 "metadata": {
  "kernelspec": {
   "display_name": "dsmlgeo",
   "language": "python",
   "name": "dsmlgeo"
  },
  "language_info": {
   "codemirror_mode": {
    "name": "ipython",
    "version": 3
   },
   "file_extension": ".py",
   "mimetype": "text/x-python",
   "name": "python",
   "nbconvert_exporter": "python",
   "pygments_lexer": "ipython3",
   "version": "3.8.12"
  }
 },
 "nbformat": 4,
 "nbformat_minor": 5
}
