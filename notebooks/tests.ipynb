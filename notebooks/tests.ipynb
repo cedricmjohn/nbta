{
 "cells": [
  {
   "cell_type": "code",
   "execution_count": 1,
   "id": "a71395ea",
   "metadata": {
    "ExecuteTime": {
     "end_time": "2022-03-12T10:41:15.823511Z",
     "start_time": "2022-03-12T10:41:15.809245Z"
    }
   },
   "outputs": [],
   "source": [
    "%load_ext autoreload\n",
    "%autoreload 2"
   ]
  },
  {
   "cell_type": "code",
   "execution_count": 2,
   "id": "01cceb0d",
   "metadata": {
    "ExecuteTime": {
     "end_time": "2022-03-12T10:41:17.751228Z",
     "start_time": "2022-03-12T10:41:17.660046Z"
    }
   },
   "outputs": [
    {
     "ename": "ModuleNotFoundError",
     "evalue": "No module named 'nbta'",
     "output_type": "error",
     "traceback": [
      "\u001b[0;31m---------------------------------------------------------------------------\u001b[0m",
      "\u001b[0;31mModuleNotFoundError\u001b[0m                       Traceback (most recent call last)",
      "\u001b[0;32m/var/folders/rn/g1_lsf8d0wzdktsvzfws61l40000gn/T/ipykernel_20137/2306943222.py\u001b[0m in \u001b[0;36m<module>\u001b[0;34m\u001b[0m\n\u001b[0;32m----> 1\u001b[0;31m \u001b[0;32mimport\u001b[0m \u001b[0mnbta\u001b[0m\u001b[0;34m\u001b[0m\u001b[0;34m\u001b[0m\u001b[0m\n\u001b[0m",
      "\u001b[0;31mModuleNotFoundError\u001b[0m: No module named 'nbta'"
     ]
    }
   ],
   "source": [
    "import nbta"
   ]
  },
  {
   "cell_type": "code",
   "execution_count": null,
   "id": "5580d89f-2e1d-447e-b86b-852e9587556a",
   "metadata": {
    "ExecuteTime": {
     "end_time": "2022-03-10T17:13:09.914306Z",
     "start_time": "2022-03-10T17:13:09.911382Z"
    },
    "execution": {
     "iopub.execute_input": "2022-03-09T17:24:33.457850Z",
     "iopub.status.busy": "2022-03-09T17:24:33.457633Z",
     "iopub.status.idle": "2022-03-09T17:24:33.773922Z",
     "shell.execute_reply": "2022-03-09T17:24:33.773363Z",
     "shell.execute_reply.started": "2022-03-09T17:24:33.457827Z"
    }
   },
   "outputs": [],
   "source": [
    "import nbformat as nbf\n",
    "import numpy as np\n",
    "import pandas as pd\n",
    "import os\n",
    "\n",
    "path = 'testing_notebook.ipynb'"
   ]
  },
  {
   "cell_type": "code",
   "execution_count": null,
   "id": "d2dc2992",
   "metadata": {
    "ExecuteTime": {
     "end_time": "2022-03-10T17:14:05.027753Z",
     "start_time": "2022-03-10T17:14:05.024987Z"
    }
   },
   "outputs": [],
   "source": [
    "print('test')"
   ]
  },
  {
   "cell_type": "code",
   "execution_count": null,
   "id": "1ee151f1-9d7f-4043-b1cc-471d22e35165",
   "metadata": {
    "ExecuteTime": {
     "end_time": "2022-03-10T17:11:19.418447Z",
     "start_time": "2022-03-10T17:11:19.410990Z"
    },
    "execution": {
     "iopub.execute_input": "2022-03-09T17:25:24.888730Z",
     "iopub.status.busy": "2022-03-09T17:25:24.888431Z",
     "iopub.status.idle": "2022-03-09T17:25:24.899369Z",
     "shell.execute_reply": "2022-03-09T17:25:24.898867Z",
     "shell.execute_reply.started": "2022-03-09T17:25:24.888703Z"
    }
   },
   "outputs": [],
   "source": []
  },
  {
   "cell_type": "code",
   "execution_count": null,
   "id": "f0cda85e",
   "metadata": {
    "ExecuteTime": {
     "end_time": "2022-03-10T17:12:15.770551Z",
     "start_time": "2022-03-10T17:12:15.641343Z"
    }
   },
   "outputs": [],
   "source": [
    "cell = nb['cells'][0]['source']"
   ]
  },
  {
   "cell_type": "code",
   "execution_count": null,
   "id": "1cf479bc",
   "metadata": {
    "ExecuteTime": {
     "end_time": "2022-03-10T17:12:15.772807Z",
     "start_time": "2022-03-10T17:12:15.772788Z"
    }
   },
   "outputs": [],
   "source": [
    "nb.keys()"
   ]
  },
  {
   "cell_type": "code",
   "execution_count": null,
   "id": "fca6f293",
   "metadata": {
    "ExecuteTime": {
     "end_time": "2022-03-10T17:12:15.773959Z",
     "start_time": "2022-03-10T17:12:15.773941Z"
    }
   },
   "outputs": [],
   "source": [
    "nb['cells'][0].keys()"
   ]
  },
  {
   "cell_type": "code",
   "execution_count": null,
   "id": "edd26ef8",
   "metadata": {
    "ExecuteTime": {
     "end_time": "2022-03-10T17:12:15.775333Z",
     "start_time": "2022-03-10T17:12:15.775315Z"
    },
    "scrolled": true
   },
   "outputs": [],
   "source": [
    "display.HTML(nb['cells'][0].get('outputs')[0]['data']['text/html'])"
   ]
  },
  {
   "cell_type": "code",
   "execution_count": null,
   "id": "1e91a180",
   "metadata": {
    "ExecuteTime": {
     "end_time": "2022-03-10T17:12:15.776746Z",
     "start_time": "2022-03-10T17:12:15.776728Z"
    }
   },
   "outputs": [],
   "source": [
    "import os\n",
    "\n",
    "output = os.popen(exec_code(nb['cells'][0].get('source'))).read()\n",
    "output"
   ]
  },
  {
   "cell_type": "code",
   "execution_count": null,
   "id": "0a23d709",
   "metadata": {
    "ExecuteTime": {
     "end_time": "2022-03-10T20:54:53.798601Z",
     "start_time": "2022-03-10T20:54:53.791469Z"
    }
   },
   "outputs": [],
   "source": [
    "nb['cells'][2].get('source')"
   ]
  },
  {
   "cell_type": "code",
   "execution_count": null,
   "id": "f2d3a679",
   "metadata": {
    "ExecuteTime": {
     "end_time": "2022-03-10T17:12:15.779146Z",
     "start_time": "2022-03-10T17:12:15.779133Z"
    }
   },
   "outputs": [],
   "source": [
    "my_function(3)"
   ]
  },
  {
   "cell_type": "code",
   "execution_count": null,
   "id": "9c003056",
   "metadata": {
    "ExecuteTime": {
     "end_time": "2022-03-10T17:14:05.013074Z",
     "start_time": "2022-03-10T17:14:05.009390Z"
    }
   },
   "outputs": [],
   "source": [
    "display.Javascript(\"Jupyter.notebook.execute_cells([1])\")"
   ]
  },
  {
   "cell_type": "code",
   "execution_count": null,
   "id": "efb09e4b-df8c-48f4-96d7-4b770f2782a0",
   "metadata": {
    "ExecuteTime": {
     "end_time": "2022-03-10T17:13:06.953846Z",
     "start_time": "2022-03-10T17:13:06.951601Z"
    },
    "execution": {
     "iopub.execute_input": "2022-03-09T17:33:17.587542Z",
     "iopub.status.busy": "2022-03-09T17:33:17.587304Z",
     "iopub.status.idle": "2022-03-09T17:33:17.594922Z",
     "shell.execute_reply": "2022-03-09T17:33:17.594314Z",
     "shell.execute_reply.started": "2022-03-09T17:33:17.587520Z"
    },
    "tags": []
   },
   "outputs": [],
   "source": [
    "from IPython import display\n",
    "\n",
    "#display.Code(cell)"
   ]
  },
  {
   "cell_type": "code",
   "execution_count": null,
   "id": "552ae91d",
   "metadata": {
    "ExecuteTime": {
     "end_time": "2022-03-10T20:54:32.818696Z",
     "start_time": "2022-03-10T20:54:32.816239Z"
    }
   },
   "outputs": [],
   "source": [
    "get_ipython().set_next_input('s')"
   ]
  },
  {
   "cell_type": "code",
   "execution_count": null,
   "id": "3b70f6ee",
   "metadata": {},
   "outputs": [],
   "source": []
  }
 ],
 "metadata": {
  "kernelspec": {
   "display_name": "dsmlgeo",
   "language": "python",
   "name": "dsmlgeo"
  },
  "language_info": {
   "codemirror_mode": {
    "name": "ipython",
    "version": 3
   },
   "file_extension": ".py",
   "mimetype": "text/x-python",
   "name": "python",
   "nbconvert_exporter": "python",
   "pygments_lexer": "ipython3",
   "version": "3.8.12"
  },
  "toc": {
   "base_numbering": 1,
   "nav_menu": {},
   "number_sections": true,
   "sideBar": true,
   "skip_h1_title": false,
   "title_cell": "Table of Contents",
   "title_sidebar": "Contents",
   "toc_cell": false,
   "toc_position": {},
   "toc_section_display": true,
   "toc_window_display": false
  }
 },
 "nbformat": 4,
 "nbformat_minor": 5
}
